{
 "cells": [
  {
   "cell_type": "markdown",
   "metadata": {},
   "source": [
    "## Internet Vulnerability: Malcode, Viruses, Worms\n",
    "\n",
    "Mobile malcode - malicious programs which spread from machine to machine *without* the consent of user.<br>\n",
    "Viruses, worms and zombies replicate themselves.<br>\n",
    "\n",
    "**Trapdoors (Back doors)**: Entry points into programs, which can be very dangerous if exploited. Requires secure software development practices to solve.<br>\n",
    "\n",
    "**Logic bomb**: Code embedded in legitimate programs, which are activated by certain events.<br>\n",
    "\n",
    "**Trojan horse**: Usually a program which users want to run e.g. game, software update etc. but actually damages the system.<br>\n",
    "\n",
    "**Zombie**: takes over the system which is connected to a network and performs attacks with the said system e.g. DDoS.<br>\n",
    "\n",
    "### Virus\n",
    "\n",
    "A malicious piece of code that damages the system when run. It cannot operate independently and requires a host program. They have two primary components:<br>\n",
    "\n",
    "* Propagation mechanism: a way of virus for spreading itself.\n",
    "* Payload: activity performed by the virus.\n",
    "<br>\n",
    "\n",
    "*Polymorphic viruses*: are harder to detect by scanners due to change in each infection (var names, line spacing etc.).<br>\n",
    "\n",
    "There are virus writing tools that simplify the process of writing a virus.<br>\n",
    "\n",
    "*Virus detection/evasion*: can be done by:\n",
    "* Looking for changes in size of file\n",
    "* Checking timestamps on the file\n",
    "* Looking for bad behavior\n",
    "* Looking for changes in file checksum\n",
    "<br>\n",
    "\n",
    "**Internet Checksum**: the goal here is to detect *errors* in a transmitted segment (only used at transport layer)<br>\n",
    "\n",
    "Sender treats segments as sequence of 16-bit integers and adds segment contents and puts the checksum value into UDP checksum field.<br>\n",
    "\n",
    "Receiver computes the checksum of received segment and checks if the computed value matches the checksum field value.<br>\n",
    "\n",
    "### Worm\n",
    "\n",
    "Autonomous, active code that can replicate itself quickly to remote hosts without any trigger.<br>\n",
    "\n",
    "**Metaserver worms**: worms use a server called the *metaserver*, which contains information about other servers. Each infected system constructs a query for new targets.<br>\n",
    "\n",
    "Some worms look for local information e.g. URLs on disk and in caches, mail addresses, known SSH hosts etc. to find new targets.<br>\n",
    "\n",
    "**Passive worms**: are the ones that wait for information about other targets to take action.\n",
    "\n",
    "#### Activation Types\n",
    "\n",
    "* Human activation: e.g. opening a mail\n",
    "* Activity based: e.g. logging in, rebooting\n",
    "* Scheduled process: e.g. updates\n",
    "* Self-activation\n",
    "\n",
    "#### Payloads\n",
    "\n",
    "* None/Non-functional: has no effect other than jamming the servers.\n",
    "* Internet remote control: opens backdoor on victim machines.\n",
    "* DoS (Denial of Service)\n",
    "* Data Collection\n",
    "* Data Damage\n",
    "\n",
    "\n",
    "*Slammer/Sapphire worm*: infected ~75.000 machines in 10 minutes. "
   ]
  },
  {
   "cell_type": "markdown",
   "metadata": {},
   "source": []
  },
  {
   "cell_type": "markdown",
   "metadata": {},
   "source": []
  }
 ],
 "metadata": {
  "kernelspec": {
   "display_name": "Python 3",
   "language": "python",
   "name": "python3"
  },
  "language_info": {
   "codemirror_mode": {
    "name": "ipython",
    "version": 3
   },
   "file_extension": ".py",
   "mimetype": "text/x-python",
   "name": "python",
   "nbconvert_exporter": "python",
   "pygments_lexer": "ipython3",
   "version": "3.6.7"
  }
 },
 "nbformat": 4,
 "nbformat_minor": 2
}
