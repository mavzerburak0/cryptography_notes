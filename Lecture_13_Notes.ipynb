{
 "cells": [
  {
   "cell_type": "markdown",
   "metadata": {},
   "source": [
    "## Introduction to Penetration Testing\n",
    "\n",
    "Penetration testing is the act of testing the security of a computer system, network or web application.<br>\n",
    "\n",
    "Penetration testing is important in:<br>\n",
    "\n",
    "* Meeting standards\n",
    "* Maintaining confidentiality\n",
    "* Verifying secure configurations\n",
    "* Security training for network staff\n",
    "* Testing new technology implementations\n",
    "<br>\n",
    "\n",
    "Different penetration testing implementations:<br>\n",
    "* *Black Box Testing*: penetration testing with zero knowledge\n",
    "* *Gray Box Testing*: penetration testing with some knowledge\n",
    "* *White Box Testing*: penetration testing with full knowledge\n",
    "\n",
    "Governments and organizations rely on offensive security to protect themselves against cyber-attacks.<br>\n",
    "\n",
    "*Backtrack Linux*: An old Linux distro for penetration testing (newer one is Kali)<br>\n",
    "\n",
    "**Metasploit framework**: is a penetration testing platform that enables finding, exploiting and validating vulnerabilities.<br>\n",
    "\n",
    "### Phases of Penentration Testing\n",
    "\n",
    "* **Reconnaisance**: gathering information about the target system. Tools used for reconnaisance:\n",
    "        \n",
    "        * John the Ripper\n",
    "        * Metasploit\n",
    "        * Nmap\n",
    "        * Wireshark\n",
    "        and many more...\n",
    "* **Scanning**: process of identifying live systems and services existing on the target system. Tools used for scanning:\n",
    "\n",
    "        * Nessus vulnerability scanner\n",
    "        * Metasploit etc.\n",
    "        \n",
    "*Port*: is a data connection that allows a computer to exchange information with other computers, software or devices.<br>\n",
    "\n",
    "** Exploitation: is the process of gaining control over a system. Tools used for exploitation:\n",
    "\n",
    "        * Medusa (parallel login brute forcer)\n",
    "        * Hydra (password cracker, brute forcing tool)\n",
    "       \n",
    "* Maintaining access"
   ]
  },
  {
   "cell_type": "code",
   "execution_count": null,
   "metadata": {},
   "outputs": [],
   "source": []
  }
 ],
 "metadata": {
  "kernelspec": {
   "display_name": "Python 3",
   "language": "python",
   "name": "python3"
  },
  "language_info": {
   "codemirror_mode": {
    "name": "ipython",
    "version": 3
   },
   "file_extension": ".py",
   "mimetype": "text/x-python",
   "name": "python",
   "nbconvert_exporter": "python",
   "pygments_lexer": "ipython3",
   "version": "3.6.7"
  }
 },
 "nbformat": 4,
 "nbformat_minor": 2
}
